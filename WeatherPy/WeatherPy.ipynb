{
 "cells": [
  {
   "cell_type": "markdown",
   "metadata": {},
   "source": [
    "# WeatherPy\n",
    "----\n",
    "\n",
    "#### Note\n",
    "* Instructions have been included for each segment. You do not have to follow them exactly, but they are included to help you think through the steps."
   ]
  },
  {
   "cell_type": "code",
   "execution_count": 1,
   "metadata": {
    "pycharm": {
     "name": "#%%\n"
    }
   },
   "outputs": [],
   "source": [
    "# Dependencies and Setup\n",
    "import matplotlib.pyplot as plt\n",
    "import pandas as pd\n",
    "import numpy as np\n",
    "import requests\n",
    "import time\n",
    "from scipy.stats import linregress\n",
    "\n",
    "# Import API key\n",
    "from api_keys import weather_api_key as key\n",
    "\n",
    "# Incorporated citipy to determine city based on latitude and longitude\n",
    "from citipy import citipy\n",
    "\n",
    "# Output File (CSV)\n",
    "output_data_file = \"output_data/cities.csv\"\n",
    "\n",
    "# Range of latitudes and longitudes\n",
    "lat_range = (-90, 90)\n",
    "lng_range = (-180, 180)"
   ]
  },
  {
   "cell_type": "markdown",
   "metadata": {},
   "source": [
    "## Generate Cities List"
   ]
  },
  {
   "cell_type": "code",
   "execution_count": 2,
   "metadata": {
    "pycharm": {
     "name": "#%%\n"
    }
   },
   "outputs": [
    {
     "data": {
      "text/plain": [
       "601"
      ]
     },
     "execution_count": 2,
     "metadata": {},
     "output_type": "execute_result"
    }
   ],
   "source": [
    "\n",
    "# List for holding lat_lngs and cities\n",
    "lat_lngs = []\n",
    "cities = []\n",
    "\n",
    "# Create a set of random lat and lng combinations\n",
    "lats = np.random.uniform(lat_range[0], lat_range[1], size=1500)\n",
    "lngs = np.random.uniform(lng_range[0], lng_range[1], size=1500)\n",
    "lat_lngs = zip(lats, lngs)\n",
    "\n",
    "# Identify nearest city for each lat, lng combination\n",
    "for lat_lng in lat_lngs:\n",
    "    city = citipy.nearest_city(lat_lng[0], lat_lng[1]).city_name\n",
    "\n",
    "    # If the city is unique, then add it to a our cities list\n",
    "    if city not in cities:\n",
    "        cities.append(city)\n",
    "\n",
    "# Print the city count to confirm sufficient count\n",
    "len(cities)"
   ]
  },
  {
   "cell_type": "code",
   "execution_count": 3,
   "metadata": {
    "pycharm": {
     "name": "#%%\n"
    }
   },
   "outputs": [],
   "source": [
    "# print(cities)"
   ]
  },
  {
   "cell_type": "markdown",
   "metadata": {},
   "source": [
    "### Perform API Calls\n",
    "* Perform a weather check on each city using a series of successive API calls.\n",
    "* Include a print log of each city as it's being processed (with the city number and city name)."
   ]
  },
  {
   "cell_type": "code",
   "execution_count": null,
   "metadata": {
    "pycharm": {
     "is_executing": true,
     "name": "#%%\n"
    },
    "scrolled": true
   },
   "outputs": [
    {
     "name": "stdout",
     "output_type": "stream",
     "text": [
      "City # 1 : chernyshevskiy\n",
      "City # 2 : hobart\n",
      "City # 3 : cape town\n",
      "City # 4 : saint-pierre\n",
      "City # 5 : lagoa\n",
      "N/A\n",
      "City # 6 : avarua\n",
      "City # 7 : punta arenas\n",
      "City # 8 : bluff\n",
      "City # 9 : ushuaia\n",
      "City # 10 : jamestown\n",
      "City # 11 : iqaluit\n",
      "City # 12 : ancud\n",
      "City # 13 : kaeo\n",
      "City # 14 : hilo\n",
      "City # 15 : bredasdorp\n",
      "City # 16 : barrow\n",
      "City # 17 : lembang\n",
      "City # 18 : fortuna\n",
      "City # 19 : mataura\n",
      "City # 20 : los llanos de aridane\n",
      "City # 21 : manali\n",
      "City # 22 : ponta do sol\n",
      "City # 23 : victor harbor\n",
      "City # 24 : osmena\n",
      "City # 25 : kapaa\n",
      "City # 26 : buta\n",
      "City # 27 : itarema\n",
      "City # 28 : kodiak\n",
      "City # 29 : eenhana\n",
      "City # 30 : yellowknife\n",
      "City # 31 : sosnovo-ozerskoye\n",
      "City # 32 : portland\n",
      "City # 33 : tuktoyaktuk\n",
      "City # 34 : rikitea\n",
      "City # 35 : atuona\n",
      "City # 36 : chazuta\n",
      "City # 37 : talnakh\n",
      "City # 38 : solms\n",
      "City # 39 : dunedin\n",
      "N/A\n",
      "City # 40 : lebu\n",
      "City # 41 : guerrero negro\n",
      "City # 42 : watertown\n",
      "City # 43 : pemba\n",
      "City # 44 : praia\n",
      "City # 45 : ribeira grande\n",
      "City # 46 : pembroke\n",
      "City # 47 : san luis\n",
      "City # 48 : lorengau\n",
      "City # 49 : puerto escondido\n",
      "N/A\n",
      "City # 50 : nanortalik\n",
      "City # 51 : butaritari\n",
      "City # 52 : hamilton\n",
      "City # 53 : am timan\n",
      "N/A\n",
      "City # 54 : praya\n",
      "City # 55 : vaini\n",
      "N/A\n",
      "City # 56 : thompson\n",
      "City # 57 : saint-philippe\n",
      "City # 58 : kamen-rybolov\n",
      "City # 59 : lerwick\n",
      "City # 60 : saskylakh\n",
      "City # 61 : torbay\n",
      "N/A\n",
      "City # 62 : buala\n",
      "City # 63 : port alfred\n",
      "City # 64 : chuy\n",
      "City # 65 : ayagoz\n",
      "City # 66 : provideniya\n",
      "City # 67 : new norfolk\n",
      "City # 68 : yulara\n",
      "City # 69 : plettenberg bay\n",
      "City # 70 : mount isa\n",
      "City # 71 : constantine\n",
      "City # 72 : albany\n",
      "City # 73 : khatanga\n",
      "N/A\n",
      "City # 74 : faya\n",
      "City # 75 : krasnovka\n",
      "City # 76 : busselton\n",
      "City # 77 : zhanaozen\n",
      "City # 78 : sturgeon bay\n",
      "City # 79 : mar del plata\n",
      "City # 80 : victoria\n",
      "City # 81 : bima\n",
      "City # 82 : aykhal\n",
      "City # 83 : tateyama\n",
      "City # 84 : bathsheba\n",
      "City # 85 : tonekabon\n",
      "City # 86 : puerto ayora\n",
      "City # 87 : qaanaaq\n",
      "City # 88 : visnes\n",
      "City # 89 : poshekhonye\n",
      "City # 90 : nikolskoye\n",
      "City # 91 : nurota\n",
      "City # 92 : guapi\n",
      "City # 93 : indiana\n",
      "N/A\n",
      "City # 94 : hermanus\n",
      "City # 95 : clyde river\n",
      "City # 96 : la ronge\n",
      "City # 97 : thurso\n",
      "City # 98 : vallenar\n",
      "City # 99 : mitsamiouli\n",
      "City # 100 : abalak\n",
      "City # 101 : tiksi\n",
      "N/A\n",
      "City # 102 : airai\n",
      "City # 103 : cidreira\n",
      "N/A\n",
      "City # 104 : coihaique\n",
      "N/A\n",
      "City # 105 : bambanglipuro\n",
      "City # 106 : mandalgovi\n",
      "City # 107 : narsaq\n",
      "City # 108 : kaitangata\n",
      "City # 109 : tuatapere\n",
      "City # 110 : hervey bay\n",
      "City # 111 : kavieng\n",
      "City # 112 : klaksvik\n",
      "City # 113 : unisan\n",
      "City # 114 : juneau\n",
      "City # 115 : kupang\n",
      "City # 116 : georgetown\n",
      "City # 117 : severo-kurilsk\n",
      "City # 118 : nome\n",
      "City # 119 : carnarvon\n",
      "City # 120 : rayachoti\n",
      "City # 121 : ormara\n",
      "City # 122 : maraa\n",
      "City # 123 : leh\n",
      "City # 124 : richards bay\n",
      "City # 125 : upernavik\n",
      "City # 126 : port hardy\n",
      "City # 127 : sobolevo\n",
      "City # 128 : flinders\n",
      "City # 129 : lensk\n",
      "City # 130 : yashkino\n",
      "City # 131 : cherskiy\n",
      "City # 132 : sitka\n",
      "City # 133 : imbituba\n",
      "N/A\n",
      "City # 134 : codrington\n",
      "N/A\n",
      "City # 135 : mahebourg\n",
      "City # 136 : hasaki\n",
      "City # 137 : cayenne\n",
      "City # 138 : faanui\n",
      "City # 139 : fare\n",
      "City # 140 : dikson\n",
      "City # 141 : esperance\n",
      "City # 142 : calama\n",
      "City # 143 : kaffrine\n",
      "City # 144 : waipawa\n",
      "N/A\n",
      "City # 145 : husavik\n",
      "City # 146 : saint-joseph\n",
      "City # 147 : pachino\n",
      "City # 148 : beira\n",
      "City # 149 : guozhen\n",
      "City # 150 : tomatlan\n",
      "City # 151 : bambous virieux\n",
      "City # 152 : jequie\n",
      "N/A\n",
      "City # 153 : saint george\n",
      "N/A\n",
      "City # 154 : chokurdakh\n",
      "City # 155 : mastic beach\n",
      "City # 156 : arraial do cabo\n",
      "City # 157 : deputatskiy\n",
      "City # 158 : tasiilaq\n",
      "City # 159 : geraldton\n",
      "City # 160 : hithadhoo\n",
      "City # 161 : aranos\n",
      "N/A\n",
      "City # 162 : college\n",
      "City # 163 : bethel\n",
      "City # 164 : sabzevar\n",
      "City # 165 : bani\n",
      "City # 166 : vardo\n",
      "City # 167 : hambantota\n",
      "City # 168 : vila nova de milfontes\n",
      "City # 169 : batagay-alyta\n",
      "City # 170 : noumea\n",
      "City # 171 : ketchikan\n",
      "City # 172 : port hedland\n",
      "City # 173 : constitucion\n",
      "City # 174 : abaza\n",
      "City # 175 : catamarca\n",
      "City # 176 : ramhormoz\n",
      "City # 177 : berlevag\n",
      "N/A\n",
      "City # 178 : adrar\n",
      "City # 179 : kruisfontein\n",
      "City # 180 : novocheboksarsk\n",
      "City # 181 : polyarnyy\n",
      "City # 182 : kangaatsiaq\n",
      "City # 183 : zhigansk\n",
      "City # 184 : kobryn\n",
      "N/A\n",
      "N/A\n",
      "City # 185 : ulcinj\n",
      "City # 186 : hovd\n",
      "City # 187 : nelson bay\n",
      "City # 188 : opelousas\n",
      "City # 189 : kahului\n",
      "City # 190 : hailar\n",
      "City # 191 : awbari\n",
      "City # 192 : omsukchan\n",
      "City # 193 : hope\n",
      "City # 194 : beringovskiy\n",
      "City # 195 : baoqing\n",
      "City # 196 : davila\n",
      "City # 197 : savannah bight\n",
      "City # 198 : skegness\n",
      "City # 199 : maceio\n",
      "City # 200 : luanda\n",
      "City # 201 : palana\n",
      "City # 202 : latur\n",
      "City # 203 : lakes entrance\n",
      "City # 204 : aklavik\n",
      "City # 205 : coahuayana\n",
      "City # 206 : usinsk\n",
      "City # 207 : kavkazskaya\n",
      "City # 208 : pampas\n",
      "City # 209 : nemuro\n",
      "City # 210 : caqueza\n",
      "City # 211 : virginia beach\n",
      "City # 212 : pionerskiy\n",
      "City # 213 : yangambi\n",
      "City # 214 : anchorage\n",
      "City # 215 : mazamari\n",
      "City # 216 : sao jose da coroa grande\n",
      "City # 217 : yatou\n",
      "City # 218 : stykkisholmur\n",
      "City # 219 : castro\n",
      "City # 220 : aguimes\n",
      "City # 221 : umea\n",
      "City # 222 : grindavik\n",
      "City # 223 : nioro\n",
      "City # 224 : timra\n",
      "City # 225 : tornio\n",
      "City # 226 : broken hill\n",
      "N/A\n",
      "City # 227 : ballina\n",
      "N/A\n",
      "City # 228 : salalah\n",
      "City # 229 : marystown\n",
      "City # 230 : santa rosalia\n",
      "City # 231 : amvrosiyivka\n",
      "City # 232 : san patricio\n",
      "N/A\n",
      "N/A\n",
      "N/A\n",
      "City # 233 : point pedro\n",
      "City # 234 : dillon\n",
      "N/A\n",
      "City # 235 : leningradskiy\n",
      "City # 236 : shelburne\n",
      "City # 237 : port lincoln\n",
      "City # 238 : totness\n",
      "City # 239 : east london\n",
      "N/A\n",
      "City # 240 : savonlinna\n",
      "City # 241 : mackenzie\n",
      "City # 242 : hatillo\n",
      "City # 243 : big spring\n",
      "City # 244 : kiruna\n",
      "City # 245 : katima mulilo\n",
      "City # 246 : saldanha\n",
      "City # 247 : sayansk\n",
      "N/A\n",
      "City # 248 : khem karan\n",
      "City # 249 : tazovskiy\n",
      "City # 250 : jos\n",
      "City # 251 : najran\n",
      "City # 252 : westport\n",
      "City # 253 : tokmak\n",
      "N/A\n",
      "City # 254 : high rock\n",
      "City # 255 : cabedelo\n",
      "City # 256 : muroran\n",
      "City # 257 : alofi\n",
      "City # 258 : itupiranga\n",
      "City # 259 : le vauclin\n",
      "City # 260 : sioux lookout\n",
      "City # 261 : maldonado\n",
      "City # 262 : rize\n",
      "City # 263 : vao\n",
      "City # 264 : shenjiamen\n",
      "N/A\n",
      "City # 265 : tezu\n",
      "City # 266 : kichera\n",
      "City # 267 : lavrentiya\n",
      "City # 268 : lysyye gory\n",
      "City # 269 : oga\n",
      "City # 270 : boyuibe\n",
      "City # 271 : tarma\n",
      "City # 272 : sao gabriel da cachoeira\n",
      "City # 273 : puerto leguizamo\n",
      "City # 274 : humberto de campos\n",
      "City # 275 : luderitz\n",
      "City # 276 : mega\n",
      "City # 277 : norman wells\n",
      "City # 278 : newcastle\n",
      "City # 279 : tromso\n",
      "City # 280 : bengkulu\n",
      "City # 281 : port moresby\n",
      "City # 282 : petropavlovsk-kamchatskiy\n",
      "City # 283 : resistencia\n",
      "City # 284 : kavaratti\n",
      "City # 285 : mehamn\n",
      "City # 286 : coari\n",
      "City # 287 : samarai\n",
      "City # 288 : hofn\n",
      "City # 289 : tual\n",
      "City # 290 : slave lake\n",
      "City # 291 : souillac\n",
      "City # 292 : tucuman\n",
      "City # 293 : loudi\n",
      "N/A\n",
      "City # 294 : santa rosa\n",
      "City # 295 : fez\n",
      "City # 296 : alyangula\n",
      "City # 297 : beruwala\n",
      "N/A\n",
      "City # 298 : xichang\n",
      "City # 299 : moerai\n",
      "City # 300 : weligama\n",
      "City # 301 : dryden\n",
      "City # 302 : sarankhola\n",
      "City # 303 : boffa\n",
      "City # 304 : haines junction\n",
      "City # 305 : banda aceh\n",
      "City # 306 : zhangye\n",
      "City # 307 : aksarka\n",
      "City # 308 : oistins\n",
      "City # 309 : port elizabeth\n",
      "N/A\n",
      "City # 310 : marand\n",
      "City # 311 : montanha\n",
      "City # 312 : kimberley\n",
      "City # 313 : taldan\n",
      "City # 314 : kyra\n",
      "City # 315 : dingle\n",
      "City # 316 : loiza\n",
      "City # 317 : port hawkesbury\n",
      "City # 318 : khandagayty\n",
      "City # 319 : semirara\n",
      "City # 320 : clarence town\n",
      "City # 321 : montepuez\n",
      "City # 322 : gazanjyk\n",
      "City # 323 : matara\n",
      "City # 324 : bilma\n",
      "City # 325 : sao filipe\n",
      "N/A\n",
      "City # 326 : uray\n",
      "City # 327 : kamenka\n",
      "City # 328 : challans\n",
      "City # 329 : comodoro rivadavia\n",
      "City # 330 : pavlodar\n",
      "City # 331 : sorong\n",
      "City # 332 : naco\n",
      "City # 333 : harnosand\n",
      "City # 334 : griffith\n",
      "City # 335 : lompoc\n",
      "City # 336 : glace bay\n",
      "City # 337 : fairbanks\n",
      "City # 338 : yining\n",
      "City # 339 : pisco\n",
      "City # 340 : ust-nera\n",
      "City # 341 : ibate\n",
      "City # 342 : komsomolskiy\n",
      "City # 343 : yaring\n",
      "City # 344 : vanavara\n",
      "City # 345 : yinchuan\n",
      "City # 346 : santa ana\n",
      "City # 347 : sharan\n",
      "City # 348 : dwarka\n",
      "City # 349 : touros\n",
      "City # 350 : ferme-neuve\n",
      "City # 351 : longyearbyen\n",
      "City # 352 : meulaboh\n",
      "City # 353 : cabo san lucas\n",
      "City # 354 : batemans bay\n",
      "City # 355 : vidim\n",
      "City # 356 : taseyevo\n",
      "City # 357 : maliq\n",
      "City # 358 : diu\n",
      "City # 359 : porto san giorgio\n",
      "City # 360 : pedernales\n",
      "City # 361 : lazaro cardenas\n",
      "City # 362 : paita\n",
      "City # 363 : bonnyville\n",
      "City # 364 : severnyy\n",
      "City # 365 : ciudad guayana\n"
     ]
    },
    {
     "name": "stdout",
     "output_type": "stream",
     "text": [
      "City # 366 : souris\n",
      "City # 367 : karratha\n",
      "City # 368 : asfi\n",
      "City # 369 : basoko\n",
      "N/A\n",
      "City # 370 : saint-francois\n",
      "City # 371 : esil\n",
      "City # 372 : umm lajj\n",
      "City # 373 : tautira\n",
      "City # 374 : atar\n",
      "City # 375 : sakakah\n",
      "N/A\n",
      "City # 376 : uige\n",
      "City # 377 : selishche\n",
      "City # 378 : ahipara\n",
      "City # 379 : camana\n",
      "City # 380 : pochutla\n",
      "N/A\n",
      "City # 381 : kincardine\n",
      "City # 382 : altamont\n",
      "City # 383 : okhotsk\n",
      "City # 384 : iskateley\n",
      "City # 385 : banamba\n",
      "City # 386 : never\n",
      "City # 387 : oregon\n",
      "City # 388 : neiafu\n",
      "City # 389 : moro\n",
      "City # 390 : laizhou\n",
      "City # 391 : roald\n",
      "City # 392 : mbini\n",
      "City # 393 : evensk\n",
      "City # 394 : caicedo\n",
      "N/A\n",
      "N/A\n",
      "City # 395 : the valley\n",
      "City # 396 : ilulissat\n",
      "City # 397 : tarakan\n",
      "City # 398 : kalmunai\n",
      "City # 399 : timbiqui\n",
      "N/A\n",
      "City # 400 : naples\n",
      "City # 401 : butembo\n"
     ]
    }
   ],
   "source": [
    "#initialize\n",
    "count = 0\n",
    "name = []\n",
    "lon = []\n",
    "lat = []\n",
    "temp = []\n",
    "humidity = []\n",
    "wind = []\n",
    "clouds = []\n",
    "country = []\n",
    "dt = []\n",
    "\n",
    "url = 'http://api.openweathermap.org/data/2.5/weather?'\n",
    "for city in cities:\n",
    "    params = '&units=imperial'\n",
    "    query_url = f'{url}appid={key}&q={city}{params}'\n",
    "    response: object = requests.get(query_url).json()\n",
    "    try:\n",
    "        name.append(response['name'])\n",
    "        lon.append(response['coord']['lon'])\n",
    "        lat.append(response['coord']['lat'])\n",
    "        temp.append(response['main']['temp_max'])\n",
    "        humidity.append(response['main']['humidity'])\n",
    "        wind.append(response['wind']['speed'])\n",
    "        clouds.append(response['clouds']['all'])\n",
    "        country.append(response['sys']['country'])\n",
    "        dt.append(response['dt'])\n",
    "        count += 1\n",
    "        print(f'City # {count} : {city}')\n",
    "    except:\n",
    "        print('N/A')"
   ]
  },
  {
   "cell_type": "markdown",
   "metadata": {},
   "source": [
    "### Convert Raw Data to DataFrame\n",
    "* Export the city data into a .csv.\n",
    "* Display the DataFrame"
   ]
  },
  {
   "cell_type": "code",
   "execution_count": null,
   "metadata": {
    "pycharm": {
     "is_executing": true,
     "name": "#%%\n"
    }
   },
   "outputs": [],
   "source": [
    "#check length\n",
    "print(f'# of cities {len(name)}')\n",
    "\n",
    "#compare lists\n",
    "length = len(name)\n",
    "if all(len(lst) == length for lst in [lon, lat, temp, humidity, clouds, wind, country, dt]):\n",
    "    print('lists are equal')\n",
    "else:\n",
    "    print('lists are not equal')"
   ]
  },
  {
   "cell_type": "code",
   "execution_count": null,
   "metadata": {
    "pycharm": {
     "is_executing": true,
     "name": "#%%\n"
    }
   },
   "outputs": [],
   "source": [
    "dict = {\n",
    "    'City': name,\n",
    "    'Longitude': lon,\n",
    "    'Latitude': lat,\n",
    "    'Temperature': temp,\n",
    "    'Humidity': humidity,\n",
    "    'Wind': wind,\n",
    "    'Cloudiness': clouds,\n",
    "    'Country': country,\n",
    "    'Date': dt\n",
    "}\n",
    "\n",
    "df = pd.DataFrame(data=dict)\n",
    "# df"
   ]
  },
  {
   "cell_type": "code",
   "execution_count": null,
   "metadata": {
    "pycharm": {
     "is_executing": true,
     "name": "#%%\n"
    }
   },
   "outputs": [],
   "source": [
    "df.to_csv(output_data_file, index=False)\n",
    "df.head()"
   ]
  },
  {
   "cell_type": "markdown",
   "metadata": {},
   "source": [
    "## Inspect the data and remove the cities where the humidity > 100%.\n",
    "----\n",
    "Skip this step if there are no cities that have humidity > 100%."
   ]
  },
  {
   "cell_type": "code",
   "execution_count": null,
   "metadata": {
    "pycharm": {
     "is_executing": true,
     "name": "#%%\n"
    }
   },
   "outputs": [],
   "source": [
    "df1 = df.loc[df['Humidity'] > 100]\n",
    "df1"
   ]
  },
  {
   "cell_type": "markdown",
   "metadata": {},
   "source": [
    "##### No cities have humidity > 100"
   ]
  },
  {
   "cell_type": "code",
   "execution_count": null,
   "metadata": {
    "pycharm": {
     "is_executing": true,
     "name": "#%%\n"
    }
   },
   "outputs": [],
   "source": [
    "#  Get the indices of cities that have humidity over 100%."
   ]
  },
  {
   "cell_type": "code",
   "execution_count": null,
   "metadata": {
    "pycharm": {
     "is_executing": true,
     "name": "#%%\n"
    }
   },
   "outputs": [],
   "source": [
    "# Make a new DataFrame equal to the city data to drop all humidity outliers by index.\n",
    "# Passing 'inplace=False' will make a copy of the city_data DataFrame, which we call 'clean_city_data'."
   ]
  },
  {
   "cell_type": "markdown",
   "metadata": {},
   "source": [
    "## Plotting the Data\n",
    "* Use proper labeling of the plots using plot titles (including date of analysis) and axes labels.\n",
    "* Save the plotted figures as .pngs."
   ]
  },
  {
   "cell_type": "markdown",
   "metadata": {},
   "source": [
    "## Latitude vs. Temperature Plot"
   ]
  },
  {
   "cell_type": "code",
   "execution_count": null,
   "metadata": {
    "pycharm": {
     "is_executing": true,
     "name": "#%%\n"
    }
   },
   "outputs": [],
   "source": [
    "import seaborn as sns\n",
    "\n",
    "plt.style.use('fivethirtyeight')\n",
    "plt.title('City Latitude vs. Max Temperature')\n",
    "plt.xlabel('Latitude')\n",
    "plt.ylabel('Max Temperature (F)')\n",
    "\n",
    "sns.scatterplot(data=df, x='Latitude', y='Temperature')\n",
    "\n",
    "plt.savefig('output_data/latitude_vs_temperature')"
   ]
  },
  {
   "cell_type": "markdown",
   "metadata": {},
   "source": [
    "## Latitude vs. Humidity Plot"
   ]
  },
  {
   "cell_type": "code",
   "execution_count": null,
   "metadata": {
    "pycharm": {
     "is_executing": true,
     "name": "#%%\n"
    }
   },
   "outputs": [],
   "source": [
    "x = 'Latitude'\n",
    "y = 'Humidity'\n",
    "\n",
    "sns.scatterplot(data=df, x=x, y=y)\n",
    "plt.title('Latitude vs Humidity')\n",
    "plt.xlabel('Latitude')\n",
    "plt.ylabel('Humidity %')\n",
    "plt.savefig('output_data/latitude_vs_humidity')"
   ]
  },
  {
   "cell_type": "markdown",
   "metadata": {},
   "source": [
    "## Latitude vs. Cloudiness Plot"
   ]
  },
  {
   "cell_type": "code",
   "execution_count": null,
   "metadata": {
    "pycharm": {
     "is_executing": true,
     "name": "#%%\n"
    }
   },
   "outputs": [],
   "source": []
  },
  {
   "cell_type": "markdown",
   "metadata": {},
   "source": [
    "## Latitude vs. Wind Speed Plot"
   ]
  },
  {
   "cell_type": "code",
   "execution_count": null,
   "metadata": {
    "pycharm": {
     "is_executing": true
    }
   },
   "outputs": [],
   "source": []
  },
  {
   "cell_type": "markdown",
   "metadata": {},
   "source": [
    "## Linear Regression"
   ]
  },
  {
   "cell_type": "code",
   "execution_count": null,
   "metadata": {
    "pycharm": {
     "is_executing": true
    }
   },
   "outputs": [],
   "source": []
  },
  {
   "cell_type": "markdown",
   "metadata": {},
   "source": [
    "####  Northern Hemisphere - Max Temp vs. Latitude Linear Regression"
   ]
  },
  {
   "cell_type": "markdown",
   "metadata": {},
   "source": [
    "####  Southern Hemisphere - Max Temp vs. Latitude Linear Regression"
   ]
  },
  {
   "cell_type": "code",
   "execution_count": null,
   "metadata": {
    "pycharm": {
     "is_executing": true
    }
   },
   "outputs": [],
   "source": []
  },
  {
   "cell_type": "markdown",
   "metadata": {},
   "source": [
    "####  Northern Hemisphere - Humidity (%) vs. Latitude Linear Regression"
   ]
  },
  {
   "cell_type": "code",
   "execution_count": null,
   "metadata": {
    "pycharm": {
     "is_executing": true
    }
   },
   "outputs": [],
   "source": []
  },
  {
   "cell_type": "markdown",
   "metadata": {},
   "source": [
    "####  Southern Hemisphere - Humidity (%) vs. Latitude Linear Regression"
   ]
  },
  {
   "cell_type": "code",
   "execution_count": null,
   "metadata": {
    "pycharm": {
     "is_executing": true
    }
   },
   "outputs": [],
   "source": []
  },
  {
   "cell_type": "markdown",
   "metadata": {},
   "source": [
    "####  Northern Hemisphere - Cloudiness (%) vs. Latitude Linear Regression"
   ]
  },
  {
   "cell_type": "code",
   "execution_count": null,
   "metadata": {
    "pycharm": {
     "is_executing": true
    }
   },
   "outputs": [],
   "source": []
  },
  {
   "cell_type": "markdown",
   "metadata": {},
   "source": [
    "####  Southern Hemisphere - Cloudiness (%) vs. Latitude Linear Regression"
   ]
  },
  {
   "cell_type": "code",
   "execution_count": null,
   "metadata": {
    "pycharm": {
     "is_executing": true
    }
   },
   "outputs": [],
   "source": []
  },
  {
   "cell_type": "markdown",
   "metadata": {},
   "source": [
    "####  Northern Hemisphere - Wind Speed (mph) vs. Latitude Linear Regression"
   ]
  },
  {
   "cell_type": "code",
   "execution_count": null,
   "metadata": {
    "pycharm": {
     "is_executing": true
    }
   },
   "outputs": [],
   "source": []
  },
  {
   "cell_type": "markdown",
   "metadata": {},
   "source": [
    "####  Southern Hemisphere - Wind Speed (mph) vs. Latitude Linear Regression"
   ]
  },
  {
   "cell_type": "code",
   "execution_count": null,
   "metadata": {
    "pycharm": {
     "is_executing": true
    }
   },
   "outputs": [],
   "source": []
  },
  {
   "cell_type": "code",
   "execution_count": null,
   "metadata": {
    "pycharm": {
     "is_executing": true
    }
   },
   "outputs": [],
   "source": []
  }
 ],
 "metadata": {
  "anaconda-cloud": {},
  "kernel_info": {
   "name": "python3"
  },
  "kernelspec": {
   "display_name": "Python (PyData)",
   "language": "python",
   "name": "pydata"
  },
  "language_info": {
   "codemirror_mode": {
    "name": "ipython",
    "version": 3
   },
   "file_extension": ".py",
   "mimetype": "text/x-python",
   "name": "python",
   "nbconvert_exporter": "python",
   "pygments_lexer": "ipython3",
   "version": "3.9.4"
  },
  "latex_envs": {
   "LaTeX_envs_menu_present": true,
   "autoclose": false,
   "autocomplete": true,
   "bibliofile": "biblio.bib",
   "cite_by": "apalike",
   "current_citInitial": 1,
   "eqLabelWithNumbers": true,
   "eqNumInitial": 1,
   "hotkeys": {
    "equation": "Ctrl-E",
    "itemize": "Ctrl-I"
   },
   "labels_anchors": false,
   "latex_user_defs": false,
   "report_style_numbering": false,
   "user_envs_cfg": false
  },
  "nteract": {
   "version": "0.12.3"
  }
 },
 "nbformat": 4,
 "nbformat_minor": 2
}
