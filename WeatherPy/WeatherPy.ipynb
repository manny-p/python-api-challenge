{
 "cells": [
  {
   "cell_type": "markdown",
   "metadata": {},
   "source": [
    "# WeatherPy\n",
    "----\n",
    "\n",
    "#### Note\n",
    "* Instructions have been included for each segment. You do not have to follow them exactly, but they are included to help you think through the steps."
   ]
  },
  {
   "cell_type": "code",
   "execution_count": 1,
   "outputs": [],
   "source": [
    "# Dependencies and Setup\n",
    "\n",
    "import numpy as np\n",
    "import pandas as pd\n",
    "import requests\n",
    "# Incorporated citipy to determine city based on latitude and longitude\n",
    "from citipy import citipy\n",
    "\n",
    "# Import API key\n",
    "from matplotlib import pyplot as plt\n",
    "\n",
    "from api_keys import weather_api_key as key\n",
    "\n",
    "# Output File (CSV)\n",
    "output_data_file = 'output_data/cities.csv'\n",
    "\n",
    "# Range of latitudes and longitudes\n",
    "lat_range = (-90, 90)\n",
    "lng_range = (-180, 180)"
   ],
   "metadata": {
    "collapsed": false,
    "pycharm": {
     "name": "#%%\n"
    }
   }
  },
  {
   "cell_type": "markdown",
   "source": [
    "## Generate Cities List"
   ],
   "metadata": {
    "collapsed": false
   }
  },
  {
   "cell_type": "code",
   "execution_count": 2,
   "outputs": [
    {
     "data": {
      "text/plain": "646"
     },
     "execution_count": 2,
     "metadata": {},
     "output_type": "execute_result"
    }
   ],
   "source": [
    "\n",
    "# List for holding lat_lngs and cities\n",
    "lat_lngs = []\n",
    "cities = []\n",
    "\n",
    "# Create a set of random lat and lng combinations\n",
    "lats = np.random.uniform(lat_range[0], lat_range[1], size=1500)\n",
    "lngs = np.random.uniform(lng_range[0], lng_range[1], size=1500)\n",
    "lat_lngs = zip(lats, lngs)\n",
    "\n",
    "# Identify nearest city for each lat, lng combination\n",
    "for lat_lng in lat_lngs:\n",
    "    city = citipy.nearest_city(lat_lng[0], lat_lng[1]).city_name\n",
    "\n",
    "    # If the city is unique, then add it to a our cities list\n",
    "    if city not in cities:\n",
    "        cities.append(city)\n",
    "\n",
    "# Print the city count to confirm sufficient count\n",
    "len(cities)"
   ],
   "metadata": {
    "collapsed": false,
    "pycharm": {
     "name": "#%%\n"
    }
   }
  },
  {
   "cell_type": "code",
   "execution_count": 3,
   "outputs": [],
   "source": [
    "# print(cities)"
   ],
   "metadata": {
    "collapsed": false,
    "pycharm": {
     "name": "#%%\n"
    }
   }
  },
  {
   "cell_type": "markdown",
   "source": [
    "### Perform API Calls\n",
    "* Perform a weather check on each city using a series of successive API calls.\n",
    "* Include a print log of each city as it's being processed (with the city number and city name)."
   ],
   "metadata": {
    "collapsed": false
   }
  },
  {
   "cell_type": "code",
   "execution_count": null,
   "outputs": [
    {
     "name": "stdout",
     "output_type": "stream",
     "text": [
      "City # 1 : nishihara\n",
      "City # 2 : mogadishu\n",
      "City # 3 : atuona\n",
      "City # 4 : san quintin\n",
      "City # 5 : vallenar\n",
      "City # 6 : pacific grove\n",
      "City # 7 : marienburg\n",
      "City # 8 : margate\n",
      "City # 9 : luderitz\n",
      "City # 10 : salalah\n",
      "City # 11 : bonavista\n",
      "City # 12 : natal\n",
      "City # 13 : dauphin\n",
      "City # 14 : ushuaia\n",
      "City # 15 : padang\n",
      "City # 16 : pangody\n",
      "City # 17 : provideniya\n",
      "City # 18 : oda\n",
      "City # 19 : hermanus\n",
      "City # 20 : busselton\n",
      "City # 21 : marawi\n",
      "City # 22 : dudinka\n",
      "City # 23 : thinadhoo\n",
      "City # 24 : port blair\n",
      "City # 25 : asau\n",
      "City # 26 : kaeo\n",
      "City # 27 : serenje\n",
      "City # 28 : westport\n",
      "City # 29 : avarua\n",
      "City # 30 : bilibino\n",
      "City # 31 : novocheboksarsk\n",
      "N/A\n",
      "City # 32 : barrow\n",
      "City # 33 : bluff\n",
      "City # 34 : matara\n",
      "City # 35 : rikitea\n",
      "City # 36 : vaini\n",
      "City # 37 : mount gambier\n",
      "City # 38 : marzuq\n",
      "City # 39 : port hardy\n",
      "City # 40 : saint-augustin\n",
      "City # 41 : albany\n",
      "N/A\n",
      "City # 42 : tuktoyaktuk\n",
      "City # 43 : mataura\n",
      "City # 44 : cape town\n",
      "N/A\n",
      "City # 45 : college\n",
      "City # 46 : baghdad\n",
      "City # 47 : champerico\n",
      "City # 48 : bom jesus da lapa\n",
      "City # 49 : kavieng\n",
      "City # 50 : trelew\n",
      "City # 51 : port moresby\n",
      "City # 52 : jiuquan\n",
      "City # 53 : kaitangata\n",
      "City # 54 : urumqi\n",
      "City # 55 : el alto\n",
      "City # 56 : oneida\n",
      "City # 57 : chaiyaphum\n",
      "City # 58 : new norfolk\n",
      "City # 59 : kapaa\n",
      "City # 60 : kulhudhuffushi\n",
      "City # 61 : jaumave\n",
      "City # 62 : yaan\n",
      "City # 63 : katobu\n",
      "City # 64 : leningradskiy\n",
      "City # 65 : sioux lookout\n",
      "City # 66 : yuzhno-kurilsk\n",
      "City # 67 : ostrovnoy\n",
      "City # 68 : jamestown\n",
      "City # 69 : mantua\n",
      "City # 70 : thompson\n",
      "City # 71 : ushtobe\n",
      "City # 72 : yumen\n",
      "City # 73 : mahebourg\n",
      "City # 74 : kruisfontein\n",
      "City # 75 : tecoanapa\n",
      "City # 76 : yulara\n",
      "City # 77 : kashary\n",
      "City # 78 : castro\n",
      "City # 79 : henderson\n",
      "City # 80 : mar del plata\n",
      "City # 81 : chokurdakh\n",
      "City # 82 : bethel\n",
      "City # 83 : matai\n",
      "City # 84 : butaritari\n",
      "City # 85 : zambezi\n",
      "City # 86 : coihaique\n",
      "N/A\n",
      "City # 87 : hilo\n",
      "City # 88 : georgetown\n",
      "City # 89 : petropavlovsk-kamchatskiy\n",
      "City # 90 : saldanha\n",
      "City # 91 : chuy\n",
      "City # 92 : alofi\n",
      "City # 93 : yellowknife\n",
      "City # 94 : hithadhoo\n",
      "City # 95 : tasiilaq\n",
      "City # 96 : carnarvon\n",
      "City # 97 : kanniyakumari\n",
      "City # 98 : caravelas\n",
      "N/A\n",
      "City # 99 : clyde river\n",
      "City # 100 : sikasso\n",
      "City # 101 : qaanaaq\n",
      "City # 102 : tigil\n",
      "City # 103 : nizhniy baskunchak\n",
      "City # 104 : jacmel\n",
      "N/A\n",
      "N/A\n",
      "City # 105 : la paz\n",
      "City # 106 : flin flon\n",
      "City # 107 : ballina\n",
      "City # 108 : abay\n",
      "N/A\n",
      "City # 109 : honiara\n",
      "City # 110 : arraial do cabo\n",
      "City # 111 : xapuri\n",
      "City # 112 : severo-kurilsk\n",
      "City # 113 : akyab\n",
      "City # 114 : puerto ayora\n",
      "City # 115 : cooma\n",
      "City # 116 : punta arenas\n",
      "N/A\n",
      "City # 117 : dubbo\n",
      "City # 118 : kupang\n",
      "City # 119 : shache\n",
      "City # 120 : ixtapa\n",
      "City # 121 : hobart\n",
      "City # 122 : shenjiamen\n",
      "City # 123 : mount hagen\n",
      "City # 124 : tilichiki\n",
      "City # 125 : ulundi\n",
      "City # 126 : geraldton\n",
      "City # 127 : nanakuli\n",
      "City # 128 : tukuyu\n",
      "City # 129 : nome\n",
      "City # 130 : saint pete beach\n",
      "City # 131 : lebu\n",
      "City # 132 : nouakchott\n",
      "City # 133 : altay\n",
      "City # 134 : vaniyambadi\n",
      "City # 135 : kodiak\n",
      "City # 136 : khatanga\n",
      "N/A\n",
      "City # 137 : vao\n",
      "City # 138 : gladstone\n",
      "N/A\n",
      "City # 139 : praya\n",
      "City # 140 : kondagaon\n",
      "City # 141 : ponta do sol\n",
      "City # 142 : kadnikov\n",
      "City # 143 : xixiang\n",
      "City # 144 : broome\n",
      "City # 145 : touros\n",
      "City # 146 : lorengau\n",
      "City # 147 : bandar-e anzali\n",
      "City # 148 : bengkulu\n",
      "City # 149 : iqaluit\n",
      "City # 150 : upernavik\n",
      "City # 151 : brigham city\n",
      "N/A\n",
      "N/A\n",
      "City # 152 : namibe\n",
      "City # 153 : bull savanna\n",
      "City # 154 : isla mujeres\n",
      "City # 155 : souillac\n",
      "City # 156 : mehamn\n",
      "City # 157 : kholtoson\n",
      "City # 158 : cuenca\n",
      "City # 159 : paamiut\n",
      "City # 160 : sibolga\n",
      "City # 161 : atasu\n",
      "City # 162 : komsomolskiy\n",
      "City # 163 : cidreira\n",
      "City # 164 : kargasok\n",
      "City # 165 : dongsheng\n",
      "City # 166 : sitka\n",
      "N/A\n",
      "City # 167 : broken hill\n",
      "City # 168 : boden\n",
      "City # 169 : waipawa\n",
      "City # 170 : erzin\n",
      "City # 171 : changji\n",
      "City # 172 : igarka\n",
      "City # 173 : buraydah\n",
      "City # 174 : alice springs\n",
      "City # 175 : nanzhang\n",
      "City # 176 : lucea\n",
      "City # 177 : awbari\n",
      "City # 178 : baruun-urt\n",
      "City # 179 : svetlaya\n",
      "City # 180 : angoram\n",
      "City # 181 : sidney\n",
      "City # 182 : cherskiy\n",
      "N/A\n",
      "City # 183 : kapit\n",
      "City # 184 : hami\n",
      "City # 185 : puerto madryn\n",
      "City # 186 : bredasdorp\n",
      "City # 187 : xinzhi\n",
      "N/A\n",
      "City # 188 : gilgit\n",
      "City # 189 : salta\n",
      "City # 190 : jackson\n",
      "City # 191 : port alfred\n",
      "City # 192 : pisco\n",
      "City # 193 : sao joao da barra\n",
      "City # 194 : faanui\n",
      "City # 195 : nikolskoye\n",
      "City # 196 : gogrial\n",
      "City # 197 : ribeira grande\n",
      "City # 198 : ouallam\n",
      "N/A\n",
      "City # 199 : husavik\n",
      "N/A\n",
      "City # 200 : suraabad\n",
      "City # 201 : narsaq\n",
      "City # 202 : denpasar\n",
      "City # 203 : mishkino\n",
      "City # 204 : vereeniging\n",
      "City # 205 : grand baie\n",
      "City # 206 : anadyr\n",
      "City # 207 : te anau\n",
      "City # 208 : hambantota\n",
      "City # 209 : ust-kut\n",
      "N/A\n",
      "City # 210 : manbij\n",
      "City # 211 : fortuna\n",
      "City # 212 : saskylakh\n",
      "City # 213 : zdvinsk\n",
      "City # 214 : faqirwali\n",
      "City # 215 : katsuura\n",
      "City # 216 : mount isa\n",
      "City # 217 : east london\n",
      "City # 218 : tapes\n",
      "City # 219 : chambersburg\n",
      "City # 220 : north bend\n",
      "City # 221 : uyuni\n",
      "N/A\n",
      "City # 222 : avera\n",
      "City # 223 : pozega\n",
      "City # 224 : san pedro de macoris\n",
      "City # 225 : deputatskiy\n",
      "City # 226 : byron bay\n",
      "City # 227 : talnakh\n",
      "City # 228 : pinega\n",
      "N/A\n",
      "City # 229 : pell city\n",
      "City # 230 : olafsvik\n",
      "N/A\n",
      "City # 231 : trinidad\n",
      "City # 232 : pevek\n",
      "City # 233 : raga\n",
      "City # 234 : samarai\n",
      "City # 235 : anzhero-sudzhensk\n",
      "City # 236 : panaba\n",
      "City # 237 : airai\n",
      "City # 238 : eyl\n",
      "City # 239 : littleton\n",
      "City # 240 : hasaki\n",
      "N/A\n",
      "City # 241 : tuatapere\n",
      "City # 242 : lakes entrance\n",
      "City # 243 : sitia\n",
      "City # 244 : taga\n",
      "City # 245 : porto novo\n",
      "City # 246 : huilong\n",
      "City # 247 : sarkand\n",
      "City # 248 : isangel\n",
      "City # 249 : iquique\n",
      "City # 250 : mountain home\n",
      "City # 251 : amalapuram\n",
      "City # 252 : khani\n",
      "City # 253 : port elizabeth\n",
      "City # 254 : masvingo\n",
      "City # 255 : longyearbyen\n",
      "City # 256 : nouadhibou\n",
      "N/A\n",
      "City # 257 : inirida\n",
      "City # 258 : adre\n",
      "City # 259 : musafirkhana\n",
      "City # 260 : makakilo city\n",
      "City # 261 : coquimbo\n",
      "City # 262 : odweyne\n",
      "City # 263 : big bend\n",
      "City # 264 : budureasa\n",
      "City # 265 : calabozo\n",
      "N/A\n",
      "City # 266 : amuntai\n",
      "City # 267 : goderich\n",
      "N/A\n",
      "City # 268 : muscat\n",
      "City # 269 : velke mezirici\n",
      "N/A\n",
      "City # 270 : meadow lake\n",
      "City # 271 : nemuro\n",
      "City # 272 : puerto lempira\n",
      "City # 273 : leninskiy\n",
      "City # 274 : kondoa\n",
      "City # 275 : kodinsk\n",
      "City # 276 : itoman\n",
      "City # 277 : fairbanks\n",
      "City # 278 : san cristobal\n",
      "N/A\n",
      "City # 279 : jumla\n",
      "City # 280 : zhezkazgan\n",
      "City # 281 : bida\n",
      "City # 282 : sol-iletsk\n",
      "City # 283 : vestmanna\n",
      "City # 284 : road town\n",
      "City # 285 : vila velha\n",
      "City # 286 : qurayyat\n",
      "City # 287 : ancud\n",
      "City # 288 : beloha\n",
      "City # 289 : havre-saint-pierre\n",
      "City # 290 : rawson\n",
      "City # 291 : reshetylivka\n",
      "City # 292 : otjimbingwe\n",
      "City # 293 : nauta\n",
      "City # 294 : kirillov\n",
      "City # 295 : hasanabad\n",
      "City # 296 : tual\n",
      "City # 297 : gat\n",
      "City # 298 : takoradi\n",
      "City # 299 : teahupoo\n",
      "City # 300 : banda aceh\n",
      "City # 301 : necochea\n",
      "City # 302 : portland\n",
      "N/A\n",
      "City # 303 : aripuana\n",
      "City # 304 : aksu\n",
      "City # 305 : grand gaube\n",
      "City # 306 : glace bay\n",
      "City # 307 : dingle\n",
      "City # 308 : ishim\n",
      "City # 309 : vilhena\n",
      "City # 310 : bogandinskiy\n",
      "City # 311 : hutchinson\n",
      "City # 312 : sao filipe\n",
      "City # 313 : neiafu\n",
      "City # 314 : imeni poliny osipenko\n",
      "City # 315 : tarakan\n",
      "City # 316 : idaho falls\n",
      "City # 317 : arman\n",
      "City # 318 : liverpool\n",
      "City # 319 : ahipara\n",
      "City # 320 : manresa\n",
      "City # 321 : bandarbeyla\n",
      "City # 322 : vossevangen\n",
      "City # 323 : yerbogachen\n",
      "City # 324 : dunedin\n",
      "N/A\n",
      "City # 325 : ekhabi\n",
      "City # 326 : almonte\n",
      "City # 327 : torbay\n",
      "City # 328 : mirnyy\n",
      "City # 329 : dawei\n",
      "City # 330 : archidona\n",
      "City # 331 : korla\n",
      "City # 332 : kahului\n",
      "City # 333 : opuwo\n",
      "City # 334 : lukulu\n",
      "N/A\n",
      "City # 335 : locri\n",
      "City # 336 : dikson\n",
      "City # 337 : san pedro\n",
      "City # 338 : hagere selam\n",
      "City # 339 : saint-philippe\n",
      "City # 340 : iwanai\n",
      "City # 341 : bosaso\n",
      "City # 342 : sabang\n",
      "City # 343 : belokurikha\n",
      "City # 344 : tiksi\n",
      "City # 345 : arganil\n",
      "City # 346 : ferme-neuve\n",
      "City # 347 : rocha\n",
      "City # 348 : pangoa\n",
      "City # 349 : pontinia\n",
      "N/A\n",
      "City # 350 : mareeba\n",
      "City # 351 : chapleau\n",
      "City # 352 : lerwick\n",
      "City # 353 : oistins\n",
      "City # 354 : rorvik\n",
      "City # 355 : half moon bay\n",
      "City # 356 : guangyuan\n",
      "City # 357 : dalbandin\n",
      "City # 358 : jaisalmer\n",
      "City # 359 : vanavara\n",
      "City # 360 : ketchikan\n",
      "N/A\n",
      "City # 361 : port lincoln\n",
      "City # 362 : namatanai\n",
      "City # 363 : dali\n",
      "City # 364 : okhotsk\n",
      "City # 365 : victoria\n",
      "N/A\n",
      "City # 366 : dombarovskiy\n",
      "City # 367 : lewisporte\n",
      "City # 368 : kununurra\n",
      "City # 369 : puerto baquerizo moreno\n",
      "City # 370 : vestmannaeyjar\n",
      "City # 371 : afua\n",
      "City # 372 : kaputa\n",
      "City # 373 : taitung\n",
      "City # 374 : muli\n",
      "City # 375 : laguna\n",
      "City # 376 : great falls\n",
      "N/A\n",
      "City # 377 : aklavik\n",
      "City # 378 : ilulissat\n",
      "City # 379 : riyadh\n",
      "City # 380 : hobyo\n",
      "City # 381 : nanortalik\n",
      "City # 382 : muyezerskiy\n",
      "City # 383 : tevaitoa\n",
      "City # 384 : atambua\n",
      "N/A\n",
      "City # 385 : haines junction\n",
      "City # 386 : machaneng\n",
      "City # 387 : cockburn town\n",
      "City # 388 : konibodom\n",
      "City # 389 : kentau\n",
      "City # 390 : pringsewu\n",
      "N/A\n",
      "City # 391 : kangaatsiaq\n",
      "City # 392 : valdez\n",
      "City # 393 : yenagoa\n",
      "City # 394 : ponta delgada\n",
      "City # 395 : asnaes\n",
      "City # 396 : talaya\n",
      "City # 397 : esperance\n",
      "City # 398 : codrington\n",
      "N/A\n",
      "City # 399 : urengoy\n",
      "City # 400 : oksbol\n",
      "City # 401 : vanderhoof\n",
      "City # 402 : mackay\n",
      "City # 403 : ambositra\n",
      "City # 404 : adrar\n",
      "City # 405 : maragogi\n",
      "City # 406 : rio grande\n",
      "City # 407 : kikwit\n",
      "N/A\n",
      "City # 408 : moree\n",
      "City # 409 : werda\n",
      "City # 410 : bilma\n",
      "City # 411 : auka\n",
      "City # 412 : shushenskoye\n",
      "City # 413 : lata\n",
      "N/A\n",
      "City # 414 : tiznit\n",
      "City # 415 : haukipudas\n",
      "City # 416 : cabo san lucas\n",
      "N/A\n",
      "City # 417 : koroni\n",
      "City # 418 : sao goncalo do amarante\n",
      "City # 419 : marsa matruh\n",
      "City # 420 : naryan-mar\n",
      "City # 421 : la ronge\n",
      "City # 422 : sevierville\n",
      "City # 423 : genhe\n",
      "City # 424 : halifax\n",
      "City # 425 : mecca\n",
      "City # 426 : istok\n",
      "City # 427 : ribas do rio pardo\n",
      "N/A\n",
      "City # 428 : waddan\n",
      "City # 429 : vardo\n",
      "City # 430 : rio gallegos\n",
      "City # 431 : kamaishi\n",
      "City # 432 : manggar\n",
      "City # 433 : manacapuru\n",
      "City # 434 : erenhot\n",
      "City # 435 : los llanos de aridane\n",
      "City # 436 : san patricio\n",
      "City # 437 : camacha\n",
      "City # 438 : merauke\n",
      "City # 439 : benguela\n",
      "City # 440 : moron\n",
      "City # 441 : sobolevo\n",
      "City # 442 : hervey bay\n",
      "City # 443 : thaba nchu\n",
      "City # 444 : ambulu\n",
      "City # 445 : nhulunbuy\n",
      "City # 446 : barrhead\n",
      "City # 447 : honjo\n",
      "City # 448 : chilakalurupet\n",
      "City # 449 : manokwari\n",
      "City # 450 : bonthe\n",
      "City # 451 : lala\n",
      "City # 452 : umm kaddadah\n",
      "City # 453 : muzhi\n",
      "City # 454 : le port\n",
      "City # 455 : fukue\n",
      "City # 456 : tabuk\n",
      "City # 457 : barentu\n",
      "City # 458 : waingapu\n",
      "City # 459 : wajima\n",
      "City # 460 : jinchang\n",
      "City # 461 : labuhan\n",
      "City # 462 : springbok\n",
      "City # 463 : sabha\n",
      "City # 464 : krasnaya gora\n",
      "City # 465 : vung tau\n",
      "City # 466 : chilca\n",
      "City # 467 : lac du bonnet\n",
      "City # 468 : danielskuil\n",
      "City # 469 : ambon\n",
      "N/A\n",
      "City # 470 : vaitape\n",
      "City # 471 : morant bay\n",
      "City # 472 : san policarpo\n",
      "City # 473 : baykit\n",
      "City # 474 : churapcha\n",
      "City # 475 : san carlos de bariloche\n",
      "N/A\n",
      "N/A\n",
      "City # 476 : moroni\n",
      "City # 477 : mananjary\n",
      "City # 478 : fallon\n",
      "City # 479 : diebougou\n",
      "N/A\n",
      "City # 480 : mandalgovi\n",
      "City # 481 : klaksvik\n",
      "City # 482 : umm lajj\n",
      "City # 483 : port macquarie\n",
      "City # 484 : zhuanghe\n",
      "City # 485 : frutigen\n",
      "City # 486 : tulagi\n",
      "City # 487 : picui\n",
      "City # 488 : skjervoy\n"
     ]
    }
   ],
   "source": [
    "#initialize\n",
    "count = 0\n",
    "name = []\n",
    "lon = []\n",
    "lat = []\n",
    "temp = []\n",
    "humidity = []\n",
    "wind = []\n",
    "clouds = []\n",
    "country = []\n",
    "dt = []\n",
    "\n",
    "url = 'http://api.openweathermap.org/data/2.5/weather?'\n",
    "for city in cities:\n",
    "    params = '&units=imperial'\n",
    "    query_url = f'{url}appid={key}&q={city}{params}'\n",
    "    response: object = requests.get(query_url).json()\n",
    "    try:\n",
    "        name.append(response['name'])\n",
    "        lon.append(response['coord']['lon'])\n",
    "        lat.append(response['coord']['lat'])\n",
    "        temp.append(response['main']['temp_max'])\n",
    "        humidity.append(response['main']['humidity'])\n",
    "        wind.append(response['wind']['speed'])\n",
    "        clouds.append(response['clouds']['all'])\n",
    "        country.append(response['sys']['country'])\n",
    "        dt.append(response['dt'])\n",
    "        count += 1\n",
    "        print(f'City # {count} : {city}')\n",
    "    except:\n",
    "        print('N/A')"
   ],
   "metadata": {
    "collapsed": false,
    "pycharm": {
     "name": "#%%\n",
     "is_executing": true
    }
   }
  },
  {
   "cell_type": "markdown",
   "source": [
    "### Convert Raw Data to DataFrame\n",
    "* Export the city data into a .csv.\n",
    "* Display the DataFrame"
   ],
   "metadata": {
    "collapsed": false
   }
  },
  {
   "cell_type": "code",
   "execution_count": null,
   "outputs": [],
   "source": [
    "#check length\n",
    "print(f'# of cities {len(name)}')\n",
    "\n",
    "#compare lists\n",
    "length = len(name)\n",
    "if all(len(lst) == length for lst in [lon, lat, temp, humidity, clouds, wind, country, dt]):\n",
    "    print('lists are equal')\n",
    "else:\n",
    "    print('lists are not equal')"
   ],
   "metadata": {
    "collapsed": false,
    "pycharm": {
     "name": "#%%\n",
     "is_executing": true
    }
   }
  },
  {
   "cell_type": "code",
   "execution_count": null,
   "outputs": [],
   "source": [
    "dict = {\n",
    "    'City': name,\n",
    "    'Longitude': lon,\n",
    "    'Latitude': lat,\n",
    "    'Temperature': temp,\n",
    "    'Humidity': humidity,\n",
    "    'Wind': wind,\n",
    "    'Cloudiness': clouds,\n",
    "    'Country': country,\n",
    "    'Date': dt\n",
    "}\n",
    "\n",
    "df = pd.DataFrame(data=dict)\n",
    "# df"
   ],
   "metadata": {
    "collapsed": false,
    "pycharm": {
     "name": "#%%\n",
     "is_executing": true
    }
   }
  },
  {
   "cell_type": "code",
   "execution_count": null,
   "outputs": [],
   "source": [
    "df.to_csv(output_data_file, index=False)\n",
    "df.head()"
   ],
   "metadata": {
    "collapsed": false,
    "pycharm": {
     "name": "#%%\n",
     "is_executing": true
    }
   }
  },
  {
   "cell_type": "markdown",
   "source": [
    "## Inspect the data and remove the cities where the humidity > 100%.\n",
    "----\n",
    "Skip this step if there are no cities that have humidity > 100%."
   ],
   "metadata": {
    "collapsed": false
   }
  },
  {
   "cell_type": "code",
   "execution_count": null,
   "outputs": [],
   "source": [
    "df1 = df.loc[df['Humidity'] > 100]\n",
    "df1"
   ],
   "metadata": {
    "collapsed": false,
    "pycharm": {
     "name": "#%%\n",
     "is_executing": true
    }
   }
  },
  {
   "cell_type": "markdown",
   "source": [
    "##### No cities have humidity > 100"
   ],
   "metadata": {
    "collapsed": false
   }
  },
  {
   "cell_type": "code",
   "execution_count": null,
   "outputs": [],
   "source": [
    "#  Get the indices of cities that have humidity over 100%."
   ],
   "metadata": {
    "collapsed": false,
    "pycharm": {
     "name": "#%%\n",
     "is_executing": true
    }
   }
  },
  {
   "cell_type": "code",
   "execution_count": null,
   "outputs": [],
   "source": [
    "# Make a new DataFrame equal to the city data to drop all humidity outliers by index.\n",
    "# Passing 'inplace=False' will make a copy of the city_data DataFrame, which we call 'clean_city_data'."
   ],
   "metadata": {
    "collapsed": false,
    "pycharm": {
     "name": "#%%\n",
     "is_executing": true
    }
   }
  },
  {
   "cell_type": "markdown",
   "source": [
    "## Plotting the Data\n",
    "* Use proper labeling of the plots using plot titles (including date of analysis) and axes labels.\n",
    "* Save the plotted figures as .pngs."
   ],
   "metadata": {
    "collapsed": false
   }
  },
  {
   "cell_type": "markdown",
   "source": [
    "## Latitude vs. Temperature Plot"
   ],
   "metadata": {
    "collapsed": false
   }
  },
  {
   "cell_type": "code",
   "execution_count": null,
   "outputs": [],
   "source": [
    "import seaborn as sns\n",
    "plt.style.use('seaborn-darkgrid')\n",
    "plt.title('City Latitude vs. Max Temperature')\n",
    "plt.xlabel('Latitude')\n",
    "plt.ylabel('Max Temperature (F)')\n",
    "\n",
    "sns.scatterplot(data=df,x='Latitude',y='Temperature')\n",
    "\n",
    "plt.savefig('output_data/latitude_vs_temperature')"
   ],
   "metadata": {
    "collapsed": false,
    "pycharm": {
     "name": "#%%\n",
     "is_executing": true
    }
   }
  },
  {
   "cell_type": "markdown",
   "source": [
    "## Latitude vs. Humidity Plot"
   ],
   "metadata": {
    "collapsed": false
   }
  },
  {
   "cell_type": "code",
   "execution_count": null,
   "outputs": [],
   "source": [],
   "metadata": {
    "collapsed": false,
    "pycharm": {
     "name": "#%%\n",
     "is_executing": true
    }
   }
  },
  {
   "cell_type": "markdown",
   "source": [
    "## Latitude vs. Cloudiness Plot"
   ],
   "metadata": {
    "collapsed": false
   }
  },
  {
   "cell_type": "code",
   "execution_count": null,
   "outputs": [],
   "source": [],
   "metadata": {
    "collapsed": false,
    "pycharm": {
     "name": "#%%\n",
     "is_executing": true
    }
   }
  },
  {
   "cell_type": "markdown",
   "source": [
    "## Latitude vs. Wind Speed Plot"
   ],
   "metadata": {
    "collapsed": false
   }
  },
  {
   "cell_type": "code",
   "execution_count": null,
   "metadata": {
    "pycharm": {
     "is_executing": true
    }
   },
   "outputs": [],
   "source": []
  },
  {
   "cell_type": "markdown",
   "metadata": {},
   "source": [
    "## Linear Regression"
   ]
  },
  {
   "cell_type": "code",
   "execution_count": null,
   "metadata": {
    "pycharm": {
     "is_executing": true
    }
   },
   "outputs": [],
   "source": []
  },
  {
   "cell_type": "markdown",
   "metadata": {},
   "source": [
    "####  Northern Hemisphere - Max Temp vs. Latitude Linear Regression"
   ]
  },
  {
   "cell_type": "markdown",
   "source": [
    "####  Southern Hemisphere - Max Temp vs. Latitude Linear Regression"
   ],
   "metadata": {
    "collapsed": false
   }
  },
  {
   "cell_type": "code",
   "execution_count": null,
   "metadata": {
    "pycharm": {
     "is_executing": true
    }
   },
   "outputs": [],
   "source": []
  },
  {
   "cell_type": "markdown",
   "metadata": {},
   "source": [
    "####  Northern Hemisphere - Humidity (%) vs. Latitude Linear Regression"
   ]
  },
  {
   "cell_type": "code",
   "execution_count": null,
   "metadata": {
    "pycharm": {
     "is_executing": true
    }
   },
   "outputs": [],
   "source": []
  },
  {
   "cell_type": "markdown",
   "metadata": {},
   "source": [
    "####  Southern Hemisphere - Humidity (%) vs. Latitude Linear Regression"
   ]
  },
  {
   "cell_type": "code",
   "execution_count": null,
   "metadata": {
    "pycharm": {
     "is_executing": true
    }
   },
   "outputs": [],
   "source": []
  },
  {
   "cell_type": "markdown",
   "metadata": {},
   "source": [
    "####  Northern Hemisphere - Cloudiness (%) vs. Latitude Linear Regression"
   ]
  },
  {
   "cell_type": "code",
   "execution_count": null,
   "metadata": {
    "pycharm": {
     "is_executing": true
    }
   },
   "outputs": [],
   "source": []
  },
  {
   "cell_type": "markdown",
   "metadata": {},
   "source": [
    "####  Southern Hemisphere - Cloudiness (%) vs. Latitude Linear Regression"
   ]
  },
  {
   "cell_type": "code",
   "execution_count": null,
   "metadata": {
    "pycharm": {
     "is_executing": true
    }
   },
   "outputs": [],
   "source": []
  },
  {
   "cell_type": "markdown",
   "metadata": {},
   "source": [
    "####  Northern Hemisphere - Wind Speed (mph) vs. Latitude Linear Regression"
   ]
  },
  {
   "cell_type": "code",
   "execution_count": null,
   "metadata": {
    "pycharm": {
     "is_executing": true
    }
   },
   "outputs": [],
   "source": []
  },
  {
   "cell_type": "markdown",
   "metadata": {},
   "source": [
    "####  Southern Hemisphere - Wind Speed (mph) vs. Latitude Linear Regression"
   ]
  },
  {
   "cell_type": "code",
   "execution_count": null,
   "metadata": {
    "pycharm": {
     "is_executing": true
    }
   },
   "outputs": [],
   "source": []
  },
  {
   "cell_type": "code",
   "execution_count": null,
   "metadata": {
    "pycharm": {
     "is_executing": true
    }
   },
   "outputs": [],
   "source": []
  }
 ],
 "metadata": {
  "anaconda-cloud": {},
  "kernel_info": {
   "name": "python3"
  },
  "kernelspec": {
   "display_name": "Python (PyData)",
   "language": "python",
   "name": "pydata"
  },
  "language_info": {
   "codemirror_mode": {
    "name": "ipython",
    "version": 3
   },
   "file_extension": ".py",
   "mimetype": "text/x-python",
   "name": "python",
   "nbconvert_exporter": "python",
   "pygments_lexer": "ipython3",
   "version": "3.9.4"
  },
  "latex_envs": {
   "LaTeX_envs_menu_present": true,
   "autoclose": false,
   "autocomplete": true,
   "bibliofile": "biblio.bib",
   "cite_by": "apalike",
   "current_citInitial": 1,
   "eqLabelWithNumbers": true,
   "eqNumInitial": 1,
   "hotkeys": {
    "equation": "Ctrl-E",
    "itemize": "Ctrl-I"
   },
   "labels_anchors": false,
   "latex_user_defs": false,
   "report_style_numbering": false,
   "user_envs_cfg": false
  },
  "nteract": {
   "version": "0.12.3"
  }
 },
 "nbformat": 4,
 "nbformat_minor": 2
}